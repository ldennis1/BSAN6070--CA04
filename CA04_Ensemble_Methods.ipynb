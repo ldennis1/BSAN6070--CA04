{
  "nbformat": 4,
  "nbformat_minor": 0,
  "metadata": {
    "colab": {
      "name": "CA04 - Ensemble Methods.ipynb",
      "provenance": [],
      "collapsed_sections": [],
      "toc_visible": true,
      "authorship_tag": "ABX9TyMszRg3EKaH2XB27gYRUK/O",
      "include_colab_link": true
    },
    "kernelspec": {
      "name": "python3",
      "display_name": "Python 3"
    },
    "language_info": {
      "name": "python"
    }
  },
  "cells": [
    {
      "cell_type": "markdown",
      "metadata": {
        "id": "view-in-github",
        "colab_type": "text"
      },
      "source": [
        "<a href=\"https://colab.research.google.com/github/ldennis1/BSAN6070--CA04/blob/main/CA04_Ensemble_Methods.ipynb\" target=\"_parent\"><img src=\"https://colab.research.google.com/assets/colab-badge.svg\" alt=\"Open In Colab\"/></a>"
      ]
    },
    {
      "cell_type": "markdown",
      "source": [
        "# 1. Data Source and Contents"
      ],
      "metadata": {
        "id": "azk4l_pCQKQF"
      }
    },
    {
      "cell_type": "code",
      "source": [
        "#import necessary packages\n",
        "import pandas as pd\n",
        "import matplotlib.pyplot as plt\n",
        "import numpy as np\n",
        "  #package for endocing\n",
        "from sklearn.preprocessing import LabelEncoder\n",
        "  #package for building model \n",
        "from sklearn.tree import DecisionTreeClassifier\n",
        "  #packages for visualization\n",
        "from six import StringIO  \n",
        "from IPython.display import Image  \n",
        "from sklearn.tree import export_graphviz\n",
        "import pydotplus\n",
        "  #packages for model evaluation \n",
        "from sklearn.preprocessing import StandardScaler\n",
        "from sklearn.svm import SVC\n",
        "from sklearn.metrics import confusion_matrix, roc_curve, roc_auc_score, RocCurveDisplay\n",
        "from sklearn.metrics import precision_score, recall_score, f1_score, accuracy_score, classification_report\n",
        "import matplotlib.pyplot as plt"
      ],
      "metadata": {
        "id": "qoACJgM12WTN"
      },
      "execution_count": 1,
      "outputs": []
    },
    {
      "cell_type": "code",
      "execution_count": 2,
      "metadata": {
        "id": "Qy6UDLmA1lry"
      },
      "outputs": [],
      "source": [
        "#Read in the data from csv\n",
        "census = pd.read_csv('/content/census_data.csv')"
      ]
    },
    {
      "cell_type": "markdown",
      "source": [
        "Data Quality Analysis"
      ],
      "metadata": {
        "id": "3wFw0G5R-9K2"
      }
    },
    {
      "cell_type": "code",
      "source": [
        "#inside look at our data\n",
        "census.head()\n",
        "census.tail()"
      ],
      "metadata": {
        "id": "iZzk6zHL6Wu1"
      },
      "execution_count": null,
      "outputs": []
    },
    {
      "cell_type": "code",
      "source": [
        "#Descriptive Statistics \n",
        "census.describe() "
      ],
      "metadata": {
        "id": "v3GnbJtfXU3k"
      },
      "execution_count": null,
      "outputs": []
    },
    {
      "cell_type": "code",
      "source": [
        "#Dispay range, column, number of non-null, datatype and memory info\n",
        "census.info()"
      ],
      "metadata": {
        "id": "Fn6hEntXANm7"
      },
      "execution_count": null,
      "outputs": []
    },
    {
      "cell_type": "markdown",
      "source": [
        "Data Cleaning for Optimal Use"
      ],
      "metadata": {
        "id": "KskOcV8U36IQ"
      }
    },
    {
      "cell_type": "markdown",
      "source": [
        "**Step 1**: Our variables are currently type=object, so we must make them type=category in order to encode them in the next step "
      ],
      "metadata": {
        "id": "YnkIzVBpg0ZN"
      }
    },
    {
      "cell_type": "code",
      "source": [
        "for column in ['hours_per_week_bin','occupation_bin','msr_bin', 'capital_gl_bin',\n",
        "       'race_sex_bin', 'education_num_bin', 'education_bin', 'workclass_bin',\n",
        "       'age_bin']:\n",
        "    census[column] = census[column].astype('category')"
      ],
      "metadata": {
        "id": "DtU7VFaGhnP7"
      },
      "execution_count": 6,
      "outputs": []
    },
    {
      "cell_type": "markdown",
      "source": [
        "**Step 2**: Check that column types converted correctly "
      ],
      "metadata": {
        "id": "GuDKpbgnh1rJ"
      }
    },
    {
      "cell_type": "code",
      "source": [
        "census.info()\n",
        "#we will remove flag and y columns when we split our data"
      ],
      "metadata": {
        "id": "AXtShH5Gh5Xu"
      },
      "execution_count": null,
      "outputs": []
    },
    {
      "cell_type": "markdown",
      "source": [
        "**Step 3**: Use encoding to change values to an integer "
      ],
      "metadata": {
        "id": "lXBVmlomiBOq"
      }
    },
    {
      "cell_type": "code",
      "source": [
        "# Import label encoder - see initial import packages cell\n",
        "# label_encoder object knows how to understand word labels. \n",
        " \n",
        "census[['hours_per_week_bin','occupation_bin','msr_bin', 'capital_gl_bin',\n",
        "       'race_sex_bin', 'education_num_bin', 'education_bin', 'workclass_bin',\n",
        "       'age_bin']]= census[['hours_per_week_bin','occupation_bin','msr_bin', 'capital_gl_bin',\n",
        "       'race_sex_bin', 'education_num_bin', 'education_bin', 'workclass_bin',\n",
        "       'age_bin']].apply(LabelEncoder().fit_transform) \n",
        "#check that the output is as expected\n",
        "census.head()"
      ],
      "metadata": {
        "id": "9B9WeWUEiRXi"
      },
      "execution_count": null,
      "outputs": []
    },
    {
      "cell_type": "markdown",
      "source": [
        "Split data into test and train datasets based on flag column"
      ],
      "metadata": {
        "id": "G7Sr4Ute1uBk"
      }
    },
    {
      "cell_type": "code",
      "source": [
        "#create train dataframe \n",
        "train = census.loc[census.flag == 'train']\n",
        "#create test dataframe \n",
        "test = census.loc[census.flag == 'test']"
      ],
      "metadata": {
        "id": "L_w9xoV41zmh"
      },
      "execution_count": 9,
      "outputs": []
    },
    {
      "cell_type": "code",
      "source": [
        "#look into the train datframe \n",
        "train.head()\n",
        "train.tail()"
      ],
      "metadata": {
        "id": "QxS1Slwf2bJ1"
      },
      "execution_count": null,
      "outputs": []
    },
    {
      "cell_type": "code",
      "source": [
        "#look into the test datframe \n",
        "test.head()\n",
        "test.tail()"
      ],
      "metadata": {
        "id": "Am8WSVN22hzc"
      },
      "execution_count": null,
      "outputs": []
    },
    {
      "cell_type": "code",
      "source": [
        "#the flag column is no longer needed, so we can drop said column\n",
        "train.drop(columns='flag', inplace=True)\n",
        "test.drop(columns='flag', inplace=True)"
      ],
      "metadata": {
        "id": "AXt2ax6X4_Fr"
      },
      "execution_count": null,
      "outputs": []
    },
    {
      "cell_type": "code",
      "source": [
        "#verify column was dropped\n",
        "train.head()\n",
        "test.head()"
      ],
      "metadata": {
        "id": "jASaBVcX5S-m"
      },
      "execution_count": null,
      "outputs": []
    },
    {
      "cell_type": "markdown",
      "source": [
        "Create our test and train variables "
      ],
      "metadata": {
        "id": "epEUI4as8Xve"
      }
    },
    {
      "cell_type": "code",
      "source": [
        "#these train variables will be used to \"train\" our model \n",
        "y_train = train['y'] #y_train is our dependent variable, or what we are trying to predict \n",
        "x_train = train.drop('y', axis=1) #x_train includes all of our independent variables"
      ],
      "metadata": {
        "id": "b6QP7m6W6phc"
      },
      "execution_count": 14,
      "outputs": []
    },
    {
      "cell_type": "code",
      "source": [
        "#These test variables will be used to \"test\" our model. These variables will not be used \n",
        "#to train the model, but will be used to predict and to test the accuracy of our model \n",
        "y_test = test['y'] #y_test has the category labels of our test data \n",
        "x_test = test.drop('y', axis=1) #x_test includes the rest of our independent variable values and will be used to predict/test accuracy of model "
      ],
      "metadata": {
        "id": "XaQ4QcPb8qIl"
      },
      "execution_count": 15,
      "outputs": []
    },
    {
      "cell_type": "markdown",
      "source": [
        "# 2. Finding Optimal Value of a key Hyper-Parameter"
      ],
      "metadata": {
        "id": "8OKuV98PUgY8"
      }
    },
    {
      "cell_type": "code",
      "source": [
        "#how to find the optimal value of max depth \n",
        "results = []\n",
        "max_depth_options = [2,4,6,8,10,12,14,16,18,20]\n",
        "\n",
        "for trees in max_depth_options: \n",
        "  model = DecisionTreeClassifier(max_depth=trees, random_state=101)\n",
        "  model.fit(x_train, y_train)\n",
        "  y_pred = model.predict(x_test)\n",
        "  accuracy = np.mean(y_test==y_pred)\n",
        "  results.append(accuracy)\n",
        "\n",
        "plt.figure(figsize=(8,4))\n",
        "pd.Series(results, max_depth_options).plot(color='darkred', marker='o')"
      ],
      "metadata": {
        "id": "6d6FWBPdEIlX"
      },
      "execution_count": null,
      "outputs": []
    },
    {
      "cell_type": "markdown",
      "source": [
        "# 3. Building a Random Forest Model"
      ],
      "metadata": {
        "id": "BZGryviwWyuN"
      }
    },
    {
      "cell_type": "code",
      "source": [
        "from sklearn.ensemble import RandomForestClassifier\n",
        "#how to find the optimal number of estimators  \n",
        "n_est_results = []\n",
        "optimal_n_estimators = [50,100,150,200,250,300,350,400,450,500]\n",
        "\n",
        "for trees in optimal_n_estimators:\n",
        "  rand_forest = RandomForestClassifier(n_estimators=trees, random_state=101)\n",
        "  rand_forest.fit(x_train, y_train)\n",
        "  y_pred = rand_forest.predict (x_test)\n",
        "  accuracy = np.mean(y_test == y_pred)\n",
        "  n_est_results.append(accuracy)\n",
        "\n",
        "plt.figure(figsize=(8,4))\n",
        "pd.Series(n_est_results, optimal_n_estimators).plot(color='darkblue', marker='o')"
      ],
      "metadata": {
        "colab": {
          "base_uri": "https://localhost:8080/",
          "height": 283
        },
        "id": "-48cK9FJb1QR",
        "outputId": "92fd151e-cce0-457e-e491-afac00b64114"
      },
      "execution_count": 22,
      "outputs": [
        {
          "output_type": "execute_result",
          "data": {
            "text/plain": [
              "<matplotlib.axes._subplots.AxesSubplot at 0x7f60c5ae1b50>"
            ]
          },
          "metadata": {},
          "execution_count": 22
        },
        {
          "output_type": "display_data",
          "data": {
            "image/png": "[encoded data removed]",
            "text/plain": [
              "<Figure size 576x288 with 1 Axes>"
            ]
          },
          "metadata": {
            "needs_background": "light"
          }
        }
      ]
    },
    {
      "cell_type": "markdown",
      "source": [
        "# 4. Building AdaBoost, Gradient Boost and XGB Models"
      ],
      "metadata": {
        "id": "SYubTJWNmVfz"
      }
    },
    {
      "cell_type": "code",
      "source": [
        "from sklearn.ensemble import AdaBoostClassifier\n",
        "#how to find the optimal number of estimators  \n",
        "ada_class_results = []\n",
        "ada_estimators = [50,100,150,200,250,300,350,400,450,500]\n",
        "\n",
        "for trees in ada_estimators:\n",
        "  ada_class = AdaBoostClassifier(n_estimators=trees, random_state=101)\n",
        "  ada_class.fit(x_train, y_train)\n",
        "  y_pred = ada_class.predict (x_test)\n",
        "  accuracy = np.mean(y_test == y_pred)\n",
        "  ada_class_results.append(accuracy)\n",
        "\n",
        "plt.figure(figsize=(8,4))\n",
        "pd.Series(ada_class_results, ada_estimators).plot(color='darkgreen', marker='o')"
      ],
      "metadata": {
        "colab": {
          "base_uri": "https://localhost:8080/",
          "height": 283
        },
        "id": "Q4hWYsBfmyNV",
        "outputId": "9c3c3793-539c-40ff-a1e9-8f5e151d9983"
      },
      "execution_count": 26,
      "outputs": [
        {
          "output_type": "execute_result",
          "data": {
            "text/plain": [
              "<matplotlib.axes._subplots.AxesSubplot at 0x7f60c59a2650>"
            ]
          },
          "metadata": {},
          "execution_count": 26
        },
        {
          "output_type": "display_data",
          "data": {
            "image/png": "[encoded data removed]",
            "text/plain": [
              "<Figure size 576x288 with 1 Axes>"
            ]
          },
          "metadata": {
            "needs_background": "light"
          }
        }
      ]
    },
    {
      "cell_type": "code",
      "source": [
        "from sklearn.ensemble import GradientBoostingClassifier\n",
        "#how to find the optimal number of estimators  \n",
        "gb_class_results = []\n",
        "gb_estimators = [50,100,150,200,250,300,350,400,450,500]\n",
        "\n",
        "for trees in ada_estimators:\n",
        "  gb_class = GradientBoostingClassifier(n_estimators=trees, random_state=101)\n",
        "  gb_class.fit(x_train, y_train)\n",
        "  y_pred = gb_class.predict (x_test)\n",
        "  accuracy = np.mean(y_test == y_pred)\n",
        "  gb_class_results.append(accuracy)\n",
        "\n",
        "plt.figure(figsize=(8,4))\n",
        "pd.Series(gb_class_results, gb_estimators).plot(color='purple', marker='o')"
      ],
      "metadata": {
        "colab": {
          "base_uri": "https://localhost:8080/",
          "height": 283
        },
        "id": "zb3XyDRxonvV",
        "outputId": "89f5f915-8a9d-43fa-dc3b-2bff0606f3d6"
      },
      "execution_count": 28,
      "outputs": [
        {
          "output_type": "execute_result",
          "data": {
            "text/plain": [
              "<matplotlib.axes._subplots.AxesSubplot at 0x7f60c596c210>"
            ]
          },
          "metadata": {},
          "execution_count": 28
        },
        {
          "output_type": "display_data",
          "data": {
            "image/png": "[encoded data removed]",
            "text/plain": [
              "<Figure size 576x288 with 1 Axes>"
            ]
          },
          "metadata": {
            "needs_background": "light"
          }
        }
      ]
    },
    {
      "cell_type": "code",
      "source": [
        "from xgboost import XGBClassifier\n",
        "#how to find the optimal number of estimators  \n",
        "xgb_class_results = []\n",
        "xgb_estimators = [50,100,150,200,250,300,350,400,450,500]\n",
        "\n",
        "for trees in xgb_estimators:\n",
        "  xgb_class = XGBClassifier(n_estimators=trees, random_state=101)\n",
        "  xgb_class.fit(x_train, y_train)\n",
        "  y_pred = xgb_class.predict (x_test)\n",
        "  accuracy = np.mean(y_test == y_pred)\n",
        "  xgb_class_results.append(accuracy)\n",
        "\n",
        "plt.figure(figsize=(8,4))\n",
        "pd.Series(xgb_class_results, xgb_estimators).plot(color='red', marker='o')"
      ],
      "metadata": {
        "colab": {
          "base_uri": "https://localhost:8080/",
          "height": 283
        },
        "id": "vm1OETTSo_LJ",
        "outputId": "0a253896-dfe8-45bd-dd53-78baf5611dce"
      },
      "execution_count": 30,
      "outputs": [
        {
          "output_type": "execute_result",
          "data": {
            "text/plain": [
              "<matplotlib.axes._subplots.AxesSubplot at 0x7f60bc993b10>"
            ]
          },
          "metadata": {},
          "execution_count": 30
        },
        {
          "output_type": "display_data",
          "data": {
            "image/png": "[encoded data removed]",
            "text/plain": [
              "<Figure size 576x288 with 1 Axes>"
            ]
          },
          "metadata": {
            "needs_background": "light"
          }
        }
      ]
    },
    {
      "cell_type": "markdown",
      "source": [
        "# 5. Performance Evaluation Comparisons"
      ],
      "metadata": {
        "id": "UkKFRozNqQgb"
      }
    },
    {
      "cell_type": "code",
      "source": [
        "results = []\n",
        "classifiers = [RandomForestClassifier,AdaBoostClassifier,GradientBoostingClassifier,XGBClassifier]\n",
        "\n",
        "common_params = {'n_estimators':100,'random_state':101}\n",
        "\n",
        "for option in classifiers:\n",
        "\n",
        "  model = option(**common_params)\n",
        "  model.fit(x_train, y_train)\n",
        "  y_pred = model.predict (x_test)\n",
        "  accuracy = np.mean(y_test == y_pred)\n",
        "  AUC = roc_auc_score(y_test,y_pred)\n",
        "\n",
        "  results.append([accuracy, AUC])\n",
        "\n",
        "comparison = pd.DataFrame(results).transpose()\n",
        "comparison.columns = ['RandomForestClassifier','AdaBoostClassifier','GradientBoostingClassifier','XGBClassifier']\n",
        "comparison.index = ['Accuracy','AUC']\n",
        "display(comparison)\n",
        "display(common_params)"
      ],
      "metadata": {
        "colab": {
          "base_uri": "https://localhost:8080/",
          "height": 130
        },
        "id": "g1SATQRLqh2W",
        "outputId": "d564d5c1-d0ee-4d9a-9dfd-5bfffb39e5d5"
      },
      "execution_count": 39,
      "outputs": [
        {
          "output_type": "display_data",
          "data": {
            "text/html": [
              "\n",
              "  <div id=\"df-d095d210-4eca-4a4f-838c-d1d00c0b61b6\">\n",
              "    <div class=\"colab-df-container\">\n",
              "      <div>\n",
              "<style scoped>\n",
              "    .dataframe tbody tr th:only-of-type {\n",
              "        vertical-align: middle;\n",
              "    }\n",
              "\n",
              "    .dataframe tbody tr th {\n",
              "        vertical-align: top;\n",
              "    }\n",
              "\n",
              "    .dataframe thead th {\n",
              "        text-align: right;\n",
              "    }\n",
              "</style>\n",
              "<table border=\"1\" class=\"dataframe\">\n",
              "  <thead>\n",
              "    <tr style=\"text-align: right;\">\n",
              "      <th></th>\n",
              "      <th>RandomForestClassifier</th>\n",
              "      <th>AdaBoostClassifier</th>\n",
              "      <th>GradientBoostingClassifier</th>\n",
              "      <th>XGBClassifier</th>\n",
              "    </tr>\n",
              "  </thead>\n",
              "  <tbody>\n",
              "    <tr>\n",
              "      <th>Accuracy</th>\n",
              "      <td>0.838216</td>\n",
              "      <td>0.844911</td>\n",
              "      <td>0.846631</td>\n",
              "      <td>0.847122</td>\n",
              "    </tr>\n",
              "    <tr>\n",
              "      <th>AUC</th>\n",
              "      <td>0.747542</td>\n",
              "      <td>0.746088</td>\n",
              "      <td>0.756732</td>\n",
              "      <td>0.756785</td>\n",
              "    </tr>\n",
              "  </tbody>\n",
              "</table>\n",
              "</div>\n",
              "      <button class=\"colab-df-convert\" onclick=\"convertToInteractive('df-d095d210-4eca-4a4f-838c-d1d00c0b61b6')\"\n",
              "              title=\"Convert this dataframe to an interactive table.\"\n",
              "              style=\"display:none;\">\n",
              "        \n",
              "  <svg xmlns=\"http://www.w3.org/2000/svg\" height=\"24px\"viewBox=\"0 0 24 24\"\n",
              "       width=\"24px\">\n",
              "    <path d=\"M0 0h24v24H0V0z\" fill=\"none\"/>\n",
              "    <path d=\"M18.56 5.44l.94 2.06.94-2.06 2.06-.94-2.06-.94-.94-2.06-.94 2.06-2.06.94zm-11 1L8.5 8.5l.94-2.06 2.06-.94-2.06-.94L8.5 2.5l-.94 2.06-2.06.94zm10 10l.94 2.06.94-2.06 2.06-.94-2.06-.94-.94-2.06-.94 2.06-2.06.94z\"/><path d=\"M17.41 7.96l-1.37-1.37c-.4-.4-.92-.59-1.43-.59-.52 0-1.04.2-1.43.59L10.3 9.45l-7.72 7.72c-.78.78-.78 2.05 0 2.83L4 21.41c.39.39.9.59 1.41.59.51 0 1.02-.2 1.41-.59l7.78-7.78 2.81-2.81c.8-.78.8-2.07 0-2.86zM5.41 20L4 18.59l7.72-7.72 1.47 1.35L5.41 20z\"/>\n",
              "  </svg>\n",
              "      </button>\n",
              "      \n",
              "  <style>\n",
              "    .colab-df-container {\n",
              "      display:flex;\n",
              "      flex-wrap:wrap;\n",
              "      gap: 12px;\n",
              "    }\n",
              "\n",
              "    .colab-df-convert {\n",
              "      background-color: #E8F0FE;\n",
              "      border: none;\n",
              "      border-radius: 50%;\n",
              "      cursor: pointer;\n",
              "      display: none;\n",
              "      fill: #1967D2;\n",
              "      height: 32px;\n",
              "      padding: 0 0 0 0;\n",
              "      width: 32px;\n",
              "    }\n",
              "\n",
              "    .colab-df-convert:hover {\n",
              "      background-color: #E2EBFA;\n",
              "      box-shadow: 0px 1px 2px rgba(60, 64, 67, 0.3), 0px 1px 3px 1px rgba(60, 64, 67, 0.15);\n",
              "      fill: #174EA6;\n",
              "    }\n",
              "\n",
              "    [theme=dark] .colab-df-convert {\n",
              "      background-color: #3B4455;\n",
              "      fill: #D2E3FC;\n",
              "    }\n",
              "\n",
              "    [theme=dark] .colab-df-convert:hover {\n",
              "      background-color: #434B5C;\n",
              "      box-shadow: 0px 1px 3px 1px rgba(0, 0, 0, 0.15);\n",
              "      filter: drop-shadow(0px 1px 2px rgba(0, 0, 0, 0.3));\n",
              "      fill: #FFFFFF;\n",
              "    }\n",
              "  </style>\n",
              "\n",
              "      <script>\n",
              "        const buttonEl =\n",
              "          document.querySelector('#df-d095d210-4eca-4a4f-838c-d1d00c0b61b6 button.colab-df-convert');\n",
              "        buttonEl.style.display =\n",
              "          google.colab.kernel.accessAllowed ? 'block' : 'none';\n",
              "\n",
              "        async function convertToInteractive(key) {\n",
              "          const element = document.querySelector('#df-d095d210-4eca-4a4f-838c-d1d00c0b61b6');\n",
              "          const dataTable =\n",
              "            await google.colab.kernel.invokeFunction('convertToInteractive',\n",
              "                                                     [key], {});\n",
              "          if (!dataTable) return;\n",
              "\n",
              "          const docLinkHtml = 'Like what you see? Visit the ' +\n",
              "            '<a target=\"_blank\" href=https://colab.research.google.com/notebooks/data_table.ipynb>data table notebook</a>'\n",
              "            + ' to learn more about interactive tables.';\n",
              "          element.innerHTML = '';\n",
              "          dataTable['output_type'] = 'display_data';\n",
              "          await google.colab.output.renderOutput(dataTable, element);\n",
              "          const docLink = document.createElement('div');\n",
              "          docLink.innerHTML = docLinkHtml;\n",
              "          element.appendChild(docLink);\n",
              "        }\n",
              "      </script>\n",
              "    </div>\n",
              "  </div>\n",
              "  "
            ],
            "text/plain": [
              "          RandomForestClassifier  AdaBoostClassifier  \\\n",
              "Accuracy                0.838216            0.844911   \n",
              "AUC                     0.747542            0.746088   \n",
              "\n",
              "          GradientBoostingClassifier  XGBClassifier  \n",
              "Accuracy                    0.846631       0.847122  \n",
              "AUC                         0.756732       0.756785  "
            ]
          },
          "metadata": {}
        },
        {
          "output_type": "display_data",
          "data": {
            "text/plain": [
              "{'n_estimators': 100, 'random_state': 101}"
            ]
          },
          "metadata": {}
        }
      ]
    }
  ]
}